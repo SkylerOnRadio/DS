{
 "cells": [
  {
   "cell_type": "code",
   "execution_count": 17,
   "id": "024717d4",
   "metadata": {},
   "outputs": [],
   "source": [
    "connection = sqlite3.connect('myclass.db')\n",
    "cursor = connection.cursor()"
   ]
  },
  {
   "cell_type": "code",
   "execution_count": 4,
   "id": "8c3945b8",
   "metadata": {},
   "outputs": [
    {
     "data": {
      "text/plain": [
       "<sqlite3.Cursor at 0x2d90b664ac0>"
      ]
     },
     "execution_count": 4,
     "metadata": {},
     "output_type": "execute_result"
    }
   ],
   "source": [
    "import sqlite3\n",
    "connection = sqlite3.connect('myclass.db')\n",
    "cursor = connection.cursor()\n",
    "query = \"\"\"CREATE TABLE emp (\n",
    "staff_num INTEGER PRIMARY KEY,\n",
    "first_name VAR_CHAR(20),\n",
    "last_name VAR_CHAR(20),\n",
    "gender CHAR(1),\n",
    "joining DATE)\"\"\"\n",
    "\n",
    "cursor.execute(query)"
   ]
  },
  {
   "cell_type": "code",
   "execution_count": 37,
   "id": "7bc60877",
   "metadata": {},
   "outputs": [],
   "source": [
    "query = \"INSERT INTO emp (first_name, last_name, gender, joining) VALUES ('Abhigya', 'Dulal', 'M', '2025-01-01')\"\n",
    "cursor.execute(query)\n",
    "connection.commit()"
   ]
  },
  {
   "cell_type": "code",
   "execution_count": 34,
   "id": "8f7f9cbf",
   "metadata": {},
   "outputs": [
    {
     "name": "stdout",
     "output_type": "stream",
     "text": [
      "(1, 'Abhigya', 'Dulal', 'M', None)\n"
     ]
    }
   ],
   "source": [
    "cursor.execute('SELECT * FROM emp')\n",
    "ans = cursor.fetchall()\n",
    "for i in ans:\n",
    "    print(i)"
   ]
  },
  {
   "cell_type": "code",
   "execution_count": 36,
   "id": "372d692e",
   "metadata": {},
   "outputs": [],
   "source": [
    "cursor.execute(\"DELETE FROM emp\")\n",
    "connection.commit()"
   ]
  },
  {
   "cell_type": "code",
   "execution_count": null,
   "id": "79baf6bb",
   "metadata": {},
   "outputs": [],
   "source": []
  }
 ],
 "metadata": {
  "kernelspec": {
   "display_name": "Python 3",
   "language": "python",
   "name": "python3"
  },
  "language_info": {
   "codemirror_mode": {
    "name": "ipython",
    "version": 3
   },
   "file_extension": ".py",
   "mimetype": "text/x-python",
   "name": "python",
   "nbconvert_exporter": "python",
   "pygments_lexer": "ipython3",
   "version": "3.13.3"
  }
 },
 "nbformat": 4,
 "nbformat_minor": 5
}
