{
 "cells": [
  {
   "cell_type": "markdown",
   "id": "f08c8927",
   "metadata": {},
   "source": [
    "## Conditional Statements\n"
   ]
  },
  {
   "cell_type": "code",
   "execution_count": 3,
   "id": "5c20a881",
   "metadata": {},
   "outputs": [
    {
     "name": "stdout",
     "output_type": "stream",
     "text": [
      "Equal to 10\n"
     ]
    }
   ],
   "source": [
    "x = 10\n",
    "if x > 10:\n",
    "    print(\"Greater than 10\")\n",
    "elif x == 10:\n",
    "    print(\"Equal to 10\")\n",
    "else:\n",
    "    print(\"Less than 10\")"
   ]
  },
  {
   "cell_type": "markdown",
   "id": "aa818021",
   "metadata": {},
   "source": [
    "## Try and Except\n"
   ]
  },
  {
   "cell_type": "code",
   "execution_count": 4,
   "id": "f2863b6e",
   "metadata": {},
   "outputs": [
    {
     "name": "stdout",
     "output_type": "stream",
     "text": [
      "The next line causes error.\n",
      "Just switches huh\n"
     ]
    }
   ],
   "source": [
    "y = \"Master\"\n",
    "\n",
    "try:\n",
    "    print(\"The next line causes error.\")\n",
    "    v = int(y)\n",
    "    print(\"THis will never print\")\n",
    "except:\n",
    "    print(\"Just switches huh\")"
   ]
  },
  {
   "cell_type": "markdown",
   "id": "5840dc9b",
   "metadata": {},
   "source": [
    "## Loops"
   ]
  },
  {
   "cell_type": "code",
   "execution_count": 5,
   "id": "3f8ee283",
   "metadata": {},
   "outputs": [
    {
     "name": "stdout",
     "output_type": "stream",
     "text": [
      "While loop! 1\n",
      "While loop! 2\n",
      "While loop! 3\n",
      "While loop! 4\n",
      "While loop! 5\n",
      "While loop! 6\n",
      "For loop! 0\n",
      "For loop! 1\n",
      "For loop! 2\n",
      "For loop! 3\n",
      "For loop! 4\n",
      "For loop! 5\n",
      "For loop in range 0\n",
      "For loop in range 1\n",
      "For loop in range 2\n",
      "For loop in range 3\n",
      "For loop in range 4\n",
      "For loop in range 5\n",
      "For loop in range 6\n"
     ]
    }
   ],
   "source": [
    "n = 1\n",
    "while n < 10:\n",
    "    if(n == 7):\n",
    "        break\n",
    "    \n",
    "    print(\"While loop!\",n)\n",
    "    n += 1\n",
    "    if(n == 5):\n",
    "        continue\n",
    "\n",
    "for i in [0,1,2,3,4,5]:\n",
    "    print(\"For loop!\", i)\n",
    "\n",
    "for i in range(7):\n",
    "    print(\"For loop in range\", i)"
   ]
  },
  {
   "cell_type": "markdown",
   "id": "d15bfe9d",
   "metadata": {},
   "source": [
    "## Strings\n"
   ]
  },
  {
   "cell_type": "code",
   "execution_count": 19,
   "id": "53c994e8",
   "metadata": {},
   "outputs": [
    {
     "name": "stdout",
     "output_type": "stream",
     "text": [
      "GojoSatoru\n",
      "4\n",
      "G\n",
      "True\n",
      "o\n",
      "True\n",
      "j\n",
      "True\n",
      "o\n",
      "True\n",
      "GOJO SATORU\n",
      " Sa\n",
      "Gojo Satoru Geto Satoru\n"
     ]
    }
   ],
   "source": [
    "#Add strings\n",
    "s1 = \"Gojo\"\n",
    "s2 = \"Satoru\"\n",
    "s3 = s1 +  ' ' + s2\n",
    "print(s1+s2)\n",
    "print(len(s1))\n",
    "\n",
    "for letter in s1:\n",
    "    print(letter)\n",
    "    print('j' in s1)\n",
    "\n",
    "print(s3.upper())\n",
    "s4 = s3.replace('Gojo', 'Geto')\n",
    "print(s3[4:7])\n",
    "print(s3, s4.strip())"
   ]
  },
  {
   "cell_type": "markdown",
   "id": "e8816eda",
   "metadata": {},
   "source": [
    "## Lists"
   ]
  },
  {
   "cell_type": "code",
   "execution_count": 24,
   "id": "b78a9a35",
   "metadata": {},
   "outputs": [
    {
     "name": "stdout",
     "output_type": "stream",
     "text": [
      "1\n",
      "2\n",
      "3\n",
      "4\n",
      "5\n",
      "Saturo\n",
      "Kenjaku\n",
      "Yuki\n",
      "Yuta\n",
      "Maki\n",
      "1\n",
      "2\n",
      "3\n",
      "4\n",
      "5\n",
      "Saturo\n",
      "Kenjaku\n",
      "Yuki\n",
      "Yuta\n",
      "Maki\n",
      "[1, 2, 3, 4, 5]\n",
      "3.0\n"
     ]
    }
   ],
   "source": [
    "#Lists are surrounded by [], they can also be lists\n",
    "l1 = [1,2,3,4,5]\n",
    "l2 = [\"Saturo\", \"Kenjaku\", \"Yuki\", \"Yuta\", \"Maki\"]\n",
    "l3 = [l1, l2]\n",
    "\n",
    "for i in l1:\n",
    "    print(i)\n",
    "\n",
    "for i in l2:\n",
    "    print(i)\n",
    "\n",
    "for i in l3:\n",
    "    for j in i:\n",
    "        print(j)\n",
    "\n",
    "print(l1)\n",
    "print(sum(l1)/len(l1))"
   ]
  },
  {
   "cell_type": "markdown",
   "id": "4017a308",
   "metadata": {},
   "source": [
    "## Dictionary\n"
   ]
  },
  {
   "cell_type": "code",
   "execution_count": 30,
   "id": "df0258d6",
   "metadata": {},
   "outputs": [
    {
     "name": "stdout",
     "output_type": "stream",
     "text": [
      "{'Supernatural': 1, 'and': 12, 'Esoteric': 1, 'Magic': 2, 'In': 3, 'its': 2, 'most': 1, 'ancient': 2, 'sense,': 1, 'magic': 6, 'refers': 1, 'to': 12, 'the': 19, 'use': 2, 'of': 17, 'spells,': 1, 'rituals,': 1, 'incantations': 1, 'manipulate': 1, 'natural': 1, 'or': 4, 'supernatural': 2, 'forces.': 1, 'This': 4, 'form': 4, 'is': 3, 'often': 3, 'rooted': 1, 'in': 1, 'esoteric': 1, 'traditions': 2, 'believed': 1, 'grant': 1, 'practitioners': 2, 'power': 1, 'influence': 1, 'events,': 1, 'communicate': 1, 'with': 5, 'spirits,': 1, 'access': 1, 'hidden': 1, 'knowledge.': 1, \"It's\": 1, 'an': 2, 'aural': 1, 'practice,': 1, 'passed': 1, 'down': 1, 'through': 2, 'generations,': 1, 'encompasses': 1, 'a': 8, 'wide': 1, 'range': 1, 'from': 1, 'around': 1, 'world,': 1, 'including': 1, 'shamanism,': 1, 'alchemy,': 1, 'various': 1, 'folk': 1, 'traditions.': 1, 'type': 1, \"isn't\": 2, 'about': 1, 'deception;': 1, \"it's\": 2, 'belief': 1, 'system': 1, 'that': 2, 'posits': 1, 'existence': 1, 'spiritual': 1, 'energetic': 1, 'reality': 1, 'can': 2, 'be': 3, 'shaped': 1, 'will': 1, 'ritual.': 1, 'Historically,': 1, 'been': 1, 'seen': 1, 'as': 4, 'both': 1, 'rival': 1, 'companion': 1, 'religion,': 1, 'being': 1, 'either': 1, 'revered': 1, 'wise': 1, 'healers': 1, 'feared': 1, 'sorcerers.': 1, 'Performing': 1, 'Art': 1, 'modern': 1, 'culture,': 1, 'almost': 1, 'exclusively': 1, 'associated': 1, 'performance,': 1, 'entertainment': 1, 'where': 1, 'magician': 1, 'creates': 1, 'illusion': 1, 'feats': 1, 'using': 1, 'skill,': 1, 'misdirection,': 1, 'psychological': 1, 'manipulation.': 1, 'tradition,': 1, 'which': 1, 'traced': 1, 'back': 1, 'times,': 1, 'developed': 1, 'into': 2, 'stagecraft': 1, 'we': 1, 'know': 1, 'today,': 1, 'performers': 1, 'like': 1, 'Harry': 1, 'Houdini': 1, 'David': 1, 'Copperfield': 1, 'mastering': 1, 'art': 1, 'creating': 1, 'wonder.': 1, 'The': 1, \"magician's\": 1, 'goal': 1, 'actually': 1, 'defy': 1, 'laws': 1, 'physics': 1, 'but': 1, 'make': 1, 'audience': 2, 'believe': 1, 'they': 2, 'are.': 1, 'They': 1, 'combination': 1, 'sleight': 1, 'hand,': 1, 'optical': 1, 'illusions,': 1, 'misdirection': 1, 'distract': 1, 'while': 2, 'perform': 1, 'trick.': 1, 'thrives': 1, 'on': 1, \"audience's\": 1, 'willingness': 1, 'deceived': 1, 'for': 2, 'sake': 1, 'entertaining': 1, 'awe-inspiring': 1, 'experience.': 1, 'essence,': 1, 'one': 1, 'seeks': 2, 'bend': 1, 'rules': 1, 'universe,': 1, 'other': 1, 'play': 1, 'our': 2, 'perception': 1, 'those': 1, 'rules.': 1, 'Both,': 1, 'however,': 1, 'tap': 1, 'innate': 1, 'desire': 1, 'extraordinary': 1, 'mysterious.': 1}\n"
     ]
    }
   ],
   "source": [
    "collection = dict()\n",
    "\n",
    "passage = \"\"\"Supernatural and Esoteric Magic\n",
    "\n",
    "In its most ancient sense, magic refers to the use of spells, rituals, and incantations to manipulate natural or supernatural forces. This form of magic is often rooted in esoteric traditions and is believed to grant practitioners the power to influence events, communicate with spirits, or access hidden knowledge. It's an aural practice, often passed down through generations, and encompasses a wide range of traditions from around the world, including shamanism, alchemy, and various folk traditions. This type of magic isn't about deception; it's a belief system that posits the existence of a spiritual or energetic reality that can be shaped through will and ritual. Historically, it's been seen as both a rival to and a companion of religion, with its practitioners often being either revered as wise healers or feared as sorcerers.\n",
    "\n",
    "Magic as a Performing Art\n",
    "\n",
    "In modern culture, magic is almost exclusively associated with performance, a form of entertainment where the magician creates the illusion of supernatural feats using skill, misdirection, and psychological manipulation. This tradition, which can be traced back to ancient times, developed into the stagecraft we know today, with performers like Harry Houdini and David Copperfield mastering the art of creating wonder. The magician's goal isn't to actually defy the laws of physics but to make the audience believe they are. They use a combination of sleight of hand, optical illusions, and misdirection to distract the audience while they perform the trick. This form of magic thrives on the audience's willingness to be deceived for the sake of an entertaining and awe-inspiring experience.\n",
    "\n",
    "In essence, while one form of magic seeks to bend the rules of the universe, the other seeks to play with our perception of those rules. Both, however, tap into our innate desire for the extraordinary and the mysterious.\"\"\"\n",
    "\n",
    "words = passage.split()\n",
    "\n",
    "for word in words:\n",
    "    collection[word] = collection.get(word, 0) + 1\n",
    "\n",
    "print(collection)"
   ]
  },
  {
   "cell_type": "markdown",
   "id": "74224944",
   "metadata": {},
   "source": [
    "## File Handling"
   ]
  },
  {
   "cell_type": "code",
   "execution_count": 35,
   "id": "cc0ca420",
   "metadata": {},
   "outputs": [
    {
     "name": "stdout",
     "output_type": "stream",
     "text": [
      "Cocaine is an illegal and highly addictive stimulant that causes a range of severe harms to the body and mind, both in the short and long term. Its effects stem from its interference with brain chemistry, particularly by causing a buildup of dopamine, which leads to feelings of euphoria and high energy.\n",
      "\n",
      "***\n",
      "\n",
      "### Physical Harms\n",
      "\n",
      "Cocaine has a devastating impact on the **cardiovascular system**, causing increased heart rate, high blood pressure, and constricted blood vessels, which significantly raise the risk of a heart attack, stroke, and cardiac arrest, even in young, healthy people. Long-term use can lead to permanent damage to the heart muscle and blood vessels.\n",
      "\n",
      "The specific method of use also causes distinct physical damage:\n",
      "* **Snorting** cocaine can destroy the nasal septum, leading to a loss of smell, chronic nosebleeds, and a collapsed nasal structure.\n",
      "* **Smoking** crack cocaine can cause respiratory problems, including lung damage, asthma, and pneumonia.\n",
      "* **Injecting** cocaine increases the risk of infectious diseases like HIV and hepatitis C from shared needles, as well as collapsed veins and abscesses at injection sites.\n",
      "\n",
      "Cocaine also harms other organs, including the **kidneys** and **liver**, and can lead to gastrointestinal problems due to reduced blood flow.\n",
      "\n",
      "***\n",
      "\n",
      "### Mental and Neurological Harms\n",
      "\n",
      "Cocaine's effect on dopamine in the brain is what makes it so addictive. Over time, the brain's natural ability to produce dopamine is reduced, leading to a dependency where the user needs more of the drug just to feel normal. This can cause severe **depression**, **anxiety**, and a profound inability to feel pleasure when not using.\n",
      "\n",
      "Chronic use can also lead to a variety of neurological and psychological issues, including:\n",
      "* **Cognitive decline**, affecting memory, attention, and decision-making.\n",
      "* **Psychosis**, characterized by paranoia, aggression, and hallucinations.\n",
      "* **Erratic and violent behavior** due to changes in brain function and impulsivity.\n",
      "\n",
      "The crash that follows a cocaine high often leads to irritability, fatigue, and intense drug cravings, fueling a dangerous cycle of addiction.\n"
     ]
    }
   ],
   "source": [
    "#read a file\n",
    "file = open('text.txt', 'r' )\n",
    "\n",
    "count = 0\n",
    "\n",
    "for line in file:\n",
    "    print(line.strip())\n"
   ]
  },
  {
   "cell_type": "markdown",
   "id": "57237217",
   "metadata": {},
   "source": [
    "## SQL"
   ]
  },
  {
   "cell_type": "code",
   "execution_count": null,
   "id": "7a8053d3",
   "metadata": {},
   "outputs": [
    {
     "name": "stdout",
     "output_type": "stream",
     "text": [
      "Connected\n"
     ]
    },
    {
     "ename": "OperationalError",
     "evalue": "table students already exists",
     "output_type": "error",
     "traceback": [
      "\u001b[31m---------------------------------------------------------------------------\u001b[39m",
      "\u001b[31mOperationalError\u001b[39m                          Traceback (most recent call last)",
      "\u001b[36mCell\u001b[39m\u001b[36m \u001b[39m\u001b[32mIn[40]\u001b[39m\u001b[32m, line 16\u001b[39m\n\u001b[32m      9\u001b[39m query = \u001b[33m\"\"\"\u001b[39m\u001b[33mCREATE TABLE students(\u001b[39m\n\u001b[32m     10\u001b[39m \u001b[33m            student_id INTEGER PRIMARY KEY,\u001b[39m\n\u001b[32m     11\u001b[39m \u001b[33m            name VARCHAR(55),\u001b[39m\n\u001b[32m     12\u001b[39m \u001b[33m            gender VARCHAR(1),\u001b[39m\n\u001b[32m     13\u001b[39m \u001b[33m            joining DATE);\u001b[39m\u001b[33m\"\"\"\u001b[39m\n\u001b[32m     15\u001b[39m \u001b[38;5;66;03m#executes the query\u001b[39;00m\n\u001b[32m---> \u001b[39m\u001b[32m16\u001b[39m \u001b[43mcursor\u001b[49m\u001b[43m.\u001b[49m\u001b[43mexecute\u001b[49m\u001b[43m(\u001b[49m\u001b[43mquery\u001b[49m\u001b[43m)\u001b[49m\n\u001b[32m     18\u001b[39m \u001b[38;5;66;03m#saves the changes made by the query\u001b[39;00m\n\u001b[32m     19\u001b[39m connection.commit()\n",
      "\u001b[31mOperationalError\u001b[39m: table students already exists"
     ]
    }
   ],
   "source": [
    "import sqlite3\n",
    "\n",
    "#connects to the database\n",
    "connection = sqlite3.connect('database.db')\n",
    "cursor = connection.cursor()\n",
    "\n",
    "print(\"Connected\")\n",
    "\n",
    "query = \"\"\"CREATE TABLE students(\n",
    "            student_id INTEGER PRIMARY KEY,\n",
    "            name VARCHAR(55),\n",
    "            gender VARCHAR(1),\n",
    "            joining DATE);\"\"\"\n",
    "\n",
    "#executes the query\n",
    "cursor.execute(query)\n",
    "\n",
    "#saves the changes made by the query\n",
    "connection.commit()\n",
    "\n",
    "connection.close()"
   ]
  },
  {
   "cell_type": "code",
   "execution_count": null,
   "id": "4efb1430",
   "metadata": {},
   "outputs": [],
   "source": [
    "connection = sqlite3.connect('database.db')\n",
    "\n",
    "cursor = connection.cursor()\n",
    "\n",
    "query = \"INSERT INTO students VALUES (202400009, 'Abhigya Dulal', 'F', '2024-09-01')\"\n",
    "\n",
    "cursor.execute(query)\n",
    "\n",
    "connection.commit()\n",
    "\n",
    "connection.close()"
   ]
  },
  {
   "cell_type": "code",
   "execution_count": 44,
   "id": "810f25ac",
   "metadata": {},
   "outputs": [
    {
     "name": "stdout",
     "output_type": "stream",
     "text": [
      "(202400009, 'Abhigya Dulal', 'F', '2024-09-01')\n"
     ]
    }
   ],
   "source": [
    "connection = sqlite3.connect('database.db')\n",
    "\n",
    "cursor = connection.cursor()\n",
    "\n",
    "query = \"SELECT * FROM students\"\n",
    "\n",
    "cursor.execute(query)\n",
    "\n",
    "ans = cursor.fetchall()\n",
    "\n",
    "for item in ans:\n",
    "    print(item)"
   ]
  },
  {
   "cell_type": "code",
   "execution_count": null,
   "id": "42b26843",
   "metadata": {},
   "outputs": [],
   "source": []
  }
 ],
 "metadata": {
  "kernelspec": {
   "display_name": "Python 3",
   "language": "python",
   "name": "python3"
  },
  "language_info": {
   "codemirror_mode": {
    "name": "ipython",
    "version": 3
   },
   "file_extension": ".py",
   "mimetype": "text/x-python",
   "name": "python",
   "nbconvert_exporter": "python",
   "pygments_lexer": "ipython3",
   "version": "3.13.3"
  }
 },
 "nbformat": 4,
 "nbformat_minor": 5
}
