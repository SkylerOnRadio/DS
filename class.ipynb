{
 "cells": [
  {
   "cell_type": "code",
   "execution_count": 3,
   "id": "8a2b543b",
   "metadata": {},
   "outputs": [],
   "source": [
    "#start\n"
   ]
  },
  {
   "cell_type": "code",
   "execution_count": 12,
   "id": "20646808",
   "metadata": {},
   "outputs": [
    {
     "name": "stdout",
     "output_type": "stream",
     "text": [
      "5\n"
     ]
    }
   ],
   "source": [
    "fruit = 'Mango'\n",
    "print(len(fruit))"
   ]
  },
  {
   "cell_type": "code",
   "execution_count": 17,
   "id": "2e93abb6",
   "metadata": {},
   "outputs": [
    {
     "name": "stdout",
     "output_type": "stream",
     "text": [
      "0\n"
     ]
    }
   ],
   "source": [
    "str = input(\"Enter a string\")\n",
    "aCount = 0\n",
    "for letter in str:\n",
    "    if (letter == 'a'):\n",
    "        aCount += 1\n",
    "print(aCount)"
   ]
  },
  {
   "cell_type": "code",
   "execution_count": null,
   "id": "1fae3232",
   "metadata": {},
   "outputs": [],
   "source": [
    "    "
   ]
  },
  {
   "cell_type": "code",
   "execution_count": 24,
   "id": "60cd6341",
   "metadata": {},
   "outputs": [
    {
     "name": "stdout",
     "output_type": "stream",
     "text": [
      "ngo\n"
     ]
    }
   ],
   "source": [
    "fruit = \"mango\"\n",
    "fruit = fruit[2:5]\n",
    "print(fruit)"
   ]
  },
  {
   "cell_type": "code",
   "execution_count": 26,
   "id": "fdd1ca64",
   "metadata": {},
   "outputs": [
    {
     "name": "stdout",
     "output_type": "stream",
     "text": [
      "Mont\n",
      "Python\n"
     ]
    }
   ],
   "source": [
    "s = \"Monty Python\"\n",
    "print(s[0:4])\n",
    "print(s[6:20])"
   ]
  },
  {
   "cell_type": "code",
   "execution_count": 27,
   "id": "2135ece2",
   "metadata": {},
   "outputs": [
    {
     "name": "stdout",
     "output_type": "stream",
     "text": [
      "True\n"
     ]
    }
   ],
   "source": [
    "print('y' in s)"
   ]
  },
  {
   "cell_type": "code",
   "execution_count": 28,
   "id": "9163fa64",
   "metadata": {},
   "outputs": [
    {
     "name": "stdout",
     "output_type": "stream",
     "text": [
      "True\n"
     ]
    }
   ],
   "source": [
    "print(\"Pyth\" in s)"
   ]
  },
  {
   "cell_type": "code",
   "execution_count": 42,
   "id": "1e2cb6f6",
   "metadata": {},
   "outputs": [
    {
     "name": "stdout",
     "output_type": "stream",
     "text": [
      "HELLO WORLD\n",
      "Hello world\n",
      "hello world\n",
      "{112: 112, 97: 97}\n"
     ]
    }
   ],
   "source": [
    "greeting = \"hello world\"\n",
    "print(greeting.upper())\n",
    "print(greeting.capitalize())\n",
    "print(greeting.casefold())\n",
    "print(greeting.maketrans('pa','pa'))"
   ]
  },
  {
   "cell_type": "code",
   "execution_count": null,
   "id": "8d948759",
   "metadata": {},
   "outputs": [],
   "source": []
  }
 ],
 "metadata": {
  "kernelspec": {
   "display_name": "Python 3",
   "language": "python",
   "name": "python3"
  },
  "language_info": {
   "codemirror_mode": {
    "name": "ipython",
    "version": 3
   },
   "file_extension": ".py",
   "mimetype": "text/x-python",
   "name": "python",
   "nbconvert_exporter": "python",
   "pygments_lexer": "ipython3",
   "version": "3.10.11"
  }
 },
 "nbformat": 4,
 "nbformat_minor": 5
}
