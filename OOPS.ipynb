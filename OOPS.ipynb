{
 "cells": [
  {
   "cell_type": "code",
   "execution_count": null,
   "id": "3b5e215c",
   "metadata": {},
   "outputs": [
    {
     "name": "stdout",
     "output_type": "stream",
     "text": [
      "f is printing for  5 years.\n"
     ]
    }
   ],
   "source": [
    "class Student:\n",
    "    _name = None\n",
    "    __age = None\n",
    "    _mark1 = None\n",
    "    _mark2 = None\n",
    "    _mark3 = None\n",
    "\n",
    "    def __init__(self, name, age):\n",
    "        self._name = name\n",
    "        self.__age = age\n",
    "\n",
    "    def printer(self):\n",
    "        print(self._name, \"is printing for \",self.__age,\"years.\")\n",
    "\n",
    "name = input(\"Enter the name of the student.\")\n",
    "age = int(input(\"Enter the age of the student.\"))\n",
    "\n",
    "class Marks(Student):\n",
    "    def pushMarks(self):\n",
    "        self.mark1 = int(input(\"Enter the marks in Mathematics.\"))\n",
    "        self.mark2 = int(input(\"Enter the marks in Literature.\"))\n",
    "        self.mark3 = int(input(\"Enter the marks in Philosophy.\"))\n",
    "\n",
    "s = Student(name, age)\n",
    "s.printer()\n",
    "s._mark1=5\n",
    "s._mark1=10\n",
    "s._mark1=15\n"
   ]
  },
  {
   "cell_type": "code",
   "execution_count": 6,
   "id": "ca9ff150",
   "metadata": {},
   "outputs": [
    {
     "name": "stdout",
     "output_type": "stream",
     "text": [
      "Animal Farm is 5000$ and has 250 pages.\n",
      "The Murder on the Orient Express is 5000$ and has 250 pages.\n",
      "Lord Of the Rings is 5000$ and has 250 pages.\n",
      "No Longer Human is 5000$ and has 250 pages.\n",
      "The Scarlet Letter is 5000$ and has 250 pages.\n",
      "God is Dead is 5000$ and has 250 pages.\n"
     ]
    }
   ],
   "source": [
    "class Books:\n",
    "    _name = None\n",
    "    __author = None\n",
    "    __publisher = None\n",
    "    def __init__(self, name, author, publisher):\n",
    "        self._name = name\n",
    "        self.__author = author\n",
    "        self.__publisher = publisher\n",
    "\n",
    "    def details(self):\n",
    "        print(f\"{self._name} is written by {self.__author} and published by {self.__publisher}\")\n",
    "\n",
    "class Details(Books):\n",
    "    _price = 5000\n",
    "    _pages = 250\n",
    "    def moreDetails(self):\n",
    "        print(f\"{self._name} is {self._price}$ and has {self._pages} pages.\")\n",
    "\n",
    "\n",
    "bookDetails = [(\"Animal Farm\", \"George Orwell\", \"Penguin\"),(\"The Murder on the Orient Express\", \"Aghata Christie\", \"CML\"),(\"Lord Of the Rings\", \"R.R. Martin\", \"LOR\"),(\"No Longer Human\", \"Dazai Osamu\", \"JP\"),(\"The Scarlet Letter\", \"Author Conan Doyle\", \"BP\"),(\"God is Dead\", \"Fredrich Nietzsche\", \"RP\")]\n",
    "books = [Details(name, author, publisher) for name, author, publisher in bookDetails]\n",
    "\n",
    "for book in books:\n",
    "    book.moreDetails()\n"
   ]
  },
  {
   "cell_type": "code",
   "execution_count": null,
   "id": "fa71bc80",
   "metadata": {},
   "outputs": [
    {
     "name": "stdout",
     "output_type": "stream",
     "text": [
      "Raju is 34 and teaches the IoT department.\n",
      "Genni is 18 and teaches the AI department.\n"
     ]
    }
   ],
   "source": [
    "class Student:\n",
    "    def __init__(self, name, age):\n",
    "        self.name = name\n",
    "        self.age = age\n",
    "\n",
    "    def display(self):\n",
    "        print(f\"Student name: {self.name} \\t Student age: {self.age}\")\n",
    "\n",
    "class Teacher:\n",
    "    def __init__(self, name, age, branch):\n",
    "        self.name = name\n",
    "        self.age = age\n",
    "        self.branch = branch\n",
    "\n",
    "    def display(self):\n",
    "        print(f\"{self.name} is {self.age} and teaches the {self.branch} department.\")\n",
    "\n",
    "teachers = []\n",
    "i = 0\n",
    "while True:\n",
    "    name = input(\"Enter the name of the teacher: \")\n",
    "    age = int(input(\"Enter the age of the teacher: \"))\n",
    "    branch = input(\"Enter the branch of the input: \")\n",
    "    teachers.append(Teacher(name, age, branch))\n",
    "    i+= 1\n",
    "    if(i == 3):\n",
    "        break\n",
    "\n",
    "for teach in teachers:\n",
    "    teach.display()\n",
    "\n"
   ]
  },
  {
   "cell_type": "code",
   "execution_count": null,
   "id": "0773f10b",
   "metadata": {},
   "outputs": [
    {
     "name": "stdout",
     "output_type": "stream",
     "text": [
      "tommy is eating.\n",
      "tommy says Woof!\n",
      "viola meows.\n",
      "viola is sleeping.\n"
     ]
    }
   ],
   "source": [
    "class Animal:\n",
    "    def __init__(self, name):\n",
    "        self.name = name\n",
    "\n",
    "    def eat(self):\n",
    "        print(self.name,\"is eating.\")\n",
    "\n",
    "    def sleep(self):\n",
    "        print(self.name,\"is sleeping.\")\n",
    "\n",
    "class Dog(Animal):\n",
    "    def bark(self):\n",
    "        print(self.name,\"says Woof!\")\n",
    "\n",
    "class Cat(Animal):\n",
    "    def meow(self):\n",
    "        print(self.name,\"meows.\")\n",
    "\n",
    "\n",
    "dog1 = Dog(\"tommy\")\n",
    "dog1.eat()\n",
    "dog1.bark()\n",
    "cat = Cat(\"viola\")\n",
    "cat.meow()\n",
    "cat.sleep()"
   ]
  },
  {
   "cell_type": "code",
   "execution_count": null,
   "id": "7e17ea57",
   "metadata": {},
   "outputs": [
    {
     "ename": "TypeError",
     "evalue": "Animal.__init__() missing 1 required positional argument: 'name'",
     "output_type": "error",
     "traceback": [
      "\u001b[31m---------------------------------------------------------------------------\u001b[39m",
      "\u001b[31mTypeError\u001b[39m                                 Traceback (most recent call last)",
      "\u001b[36mCell\u001b[39m\u001b[36m \u001b[39m\u001b[32mIn[4]\u001b[39m\u001b[32m, line 23\u001b[39m\n\u001b[32m     20\u001b[39m \u001b[38;5;28;01mdef\u001b[39;00m\u001b[38;5;250m \u001b[39m\u001b[34manimal_sound\u001b[39m(animal):\n\u001b[32m     21\u001b[39m     \u001b[38;5;28mprint\u001b[39m( animal.speak())\n\u001b[32m---> \u001b[39m\u001b[32m23\u001b[39m dog = \u001b[43mDog\u001b[49m\u001b[43m(\u001b[49m\u001b[43m)\u001b[49m\n\u001b[32m     24\u001b[39m cat = Cat()\n\u001b[32m     25\u001b[39m cow = Cow()\n",
      "\u001b[31mTypeError\u001b[39m: Animal.__init__() missing 1 required positional argument: 'name'"
     ]
    }
   ],
   "source": [
    "class Animal:\n",
    "\n",
    "    def speak(self):\n",
    "        return \"some sound\"\n",
    "\n",
    "class Dog(Animal):\n",
    "    def speak(self):\n",
    "        return \"bark\"\n",
    "\n",
    "class Cat(Animal):\n",
    "    def speak(self):\n",
    "        return 'meow'\n",
    "\n",
    "class Cow(Animal):\n",
    "    def speak(self):\n",
    "        return 'moo'\n",
    "\n",
    "def animal_sound(animal):\n",
    "    print( animal.speak())\n",
    "\n",
    "dog = Dog()\n",
    "cat = Cat()\n",
    "cow = Cow()\n",
    "\n",
    "animal_sound(dog)\n",
    "animal_sound(cat)\n",
    "animal_sound(cow)"
   ]
  },
  {
   "cell_type": "code",
   "execution_count": null,
   "id": "09e2513b",
   "metadata": {},
   "outputs": [],
   "source": []
  }
 ],
 "metadata": {
  "kernelspec": {
   "display_name": "Python 3",
   "language": "python",
   "name": "python3"
  },
  "language_info": {
   "codemirror_mode": {
    "name": "ipython",
    "version": 3
   },
   "file_extension": ".py",
   "mimetype": "text/x-python",
   "name": "python",
   "nbconvert_exporter": "python",
   "pygments_lexer": "ipython3",
   "version": "3.13.3"
  }
 },
 "nbformat": 4,
 "nbformat_minor": 5
}
